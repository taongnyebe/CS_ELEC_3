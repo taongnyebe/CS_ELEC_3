{
 "cells": [],
 "metadata": {
  "kernelspec": {
   "display_name": "Python 3.10.7 ('CSElec3': venv)",
   "language": "python",
   "name": "python3"
  },
  "language_info": {
   "codemirror_mode": {
    "name": "ipython",
    "version": 3
   },
   "file_extension": ".py",
   "mimetype": "text/x-python",
   "name": "python",
   "nbconvert_exporter": "python",
   "pygments_lexer": "ipython3",
   "version": "3.10.7"
  },
  "orig_nbformat": 4,
  "vscode": {
   "interpreter": {
    "hash": "f5896a0b2bf37097557947e916f9cf2d3de900f13f43a685b62eda1410679f8a"
   }
  }
 },
 "nbformat": 4,
 "nbformat_minor": 2
}
