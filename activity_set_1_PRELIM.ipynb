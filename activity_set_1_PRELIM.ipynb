{
 "cells": [
  {
   "cell_type": "markdown",
   "metadata": {},
   "source": [
    "## Case Analysis 1 : Billing Statement"
   ]
  },
  {
   "cell_type": "markdown",
   "metadata": {},
   "source": [
    "Priority Goal of the Code:\n",
    "- Compute wattage consumption\n",
    "- Gross monthly bill\n",
    "- Final monthly bill\n",
    "\n",
    "Computation:\n",
    "- Consumption will be obtained by deducing the previous reading to present reading\n",
    "\n",
    "GrossMonthlyBill = (consumption * rate/KW-hr)\n",
    "\n",
    "FinalMonthlyBill = gmb + additionalCost + tax\n",
    "\n",
    "Variable to consider:\n",
    "- Type of Consumer\n",
    "- Trap if Previous Reading is higher than Present Reading"
   ]
  },
  {
   "cell_type": "code",
   "execution_count": 17,
   "metadata": {},
   "outputs": [],
   "source": [
    "import datetime\n",
    "import os"
   ]
  },
  {
   "cell_type": "code",
   "execution_count": 12,
   "metadata": {},
   "outputs": [],
   "source": [
    "def ConsumerType(consumption:float, utype:chr)->dict:\n",
    "  if consumption >= 100:\n",
    "    if utype == \"residential\":\n",
    "      values = dict(rate=18.75, tax=0.05, addCost=0)\n",
    "    elif utype == \"commercial\":\n",
    "      values = dict(rate=20.25, tax=0.1, addCost=200)\n",
    "    elif utype == \"industrial\":\n",
    "      values = dict(rate=22.75, tax=0.1, addCost=500)\n",
    "    else:\n",
    "      return None\n",
    "  elif consumption < 100:\n",
    "    if utype == \"residential\":\n",
    "      values = dict(rate=17.5, tax=0, addCost=0)\n",
    "    elif utype == \"commercial\":\n",
    "      values = dict(rate=19.75, tax=0.02, addCost=100)\n",
    "    elif utype == \"industrial\":\n",
    "      values = dict(rate=22.55, tax=0.05, addCost=300)\n",
    "    else:\n",
    "      return None\n",
    "\n",
    "  return values\n",
    "\n",
    "\n"
   ]
  },
  {
   "cell_type": "code",
   "execution_count": 21,
   "metadata": {},
   "outputs": [
    {
     "name": "stdout",
     "output_type": "stream",
     "text": [
      "Error Input. Auto shut-down Implemented\n"
     ]
    }
   ],
   "source": [
    "repeat = True\n",
    "try:\n",
    "  while repeat:\n",
    "    prevConsumption = float(input(\"Previous Consumption: \"))\n",
    "    currConsumption = float(input(\"Current Consumption: \"))\n",
    "\n",
    "    if prevConsumption < currConsumption:\n",
    "      consumption = currConsumption - prevConsumption\n",
    "      userType = input(\"Consumer Type: \")\n",
    "      values = ConsumerType(consumption, userType.lower())\n",
    "\n",
    "      if values is not None:\n",
    "        gmb = consumption * values[\"rate\"]\n",
    "        fmb = gmb + values[\"addCost\"] + (gmb * values[\"tax\"])\n",
    "        print(\n",
    "          \"-------------------------------------------------\\n\" +\n",
    "          f\"{datetime.datetime.now().strftime('%d:%m:%Y %H:%M')}\\n\"\n",
    "          \"-------------------------------------------------\\n\" +\n",
    "          f\"Previous Consumption: {prevConsumption} watts\\n\" +\n",
    "          f\"Current Consumption: {currConsumption} watts\\n\" +\n",
    "          f\"Total Consumption of the month: {consumption} watts\\n\" +\n",
    "          \"-------------------------------------------------\\n\\n\" +\n",
    "          f\"Consumer Type: {userType}\\n\\n\" +\n",
    "          f\"Rate: {values['rate']}\\n\" +\n",
    "          f\"Tax: {values['tax']}\\n\" +\n",
    "          f\"Added Cost: {values['addCost']}\\n\\n\" +\n",
    "          f\"Gross Monthly: {gmb} kw/hr\\n\" +\n",
    "          f\"Final Monthly: {fmb} kw/hr\\n\"\n",
    "        )\n",
    "      else:\n",
    "        print(\"User Input Error!\")\n",
    "    else:\n",
    "      print(\"Input Error!\\nPrevious Consumption is higher than usual.\")\n",
    "    \n",
    "    yes = input(\"Exit [y/n]: \")\n",
    "    if yes == 1 or yes.lower() == \"y\":\n",
    "      repeat = False\n",
    "\n",
    "    os.system(\"cls\")\n",
    "except Exception as e:\n",
    "  print(\"Error Input. Auto shut-down Implemented\")"
   ]
  },
  {
   "cell_type": "code",
   "execution_count": null,
   "metadata": {},
   "outputs": [],
   "source": []
  }
 ],
 "metadata": {
  "kernelspec": {
   "display_name": "Python 3.10.7 ('CSElec3': venv)",
   "language": "python",
   "name": "python3"
  },
  "language_info": {
   "codemirror_mode": {
    "name": "ipython",
    "version": 3
   },
   "file_extension": ".py",
   "mimetype": "text/x-python",
   "name": "python",
   "nbconvert_exporter": "python",
   "pygments_lexer": "ipython3",
   "version": "3.10.7"
  },
  "orig_nbformat": 4,
  "vscode": {
   "interpreter": {
    "hash": "f5896a0b2bf37097557947e916f9cf2d3de900f13f43a685b62eda1410679f8a"
   }
  }
 },
 "nbformat": 4,
 "nbformat_minor": 2
}
